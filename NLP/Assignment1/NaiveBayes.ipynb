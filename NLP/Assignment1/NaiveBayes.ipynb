{
 "cells": [
  {
   "cell_type": "code",
   "execution_count": null,
   "metadata": {},
   "outputs": [],
   "source": [
    "import numpy as np\n",
    "import nltk\n",
    "nltk.download('twitter_samples')\n",
    "from nltk.corpus import twitter_samples, stopwords\n",
    "from NaiveBayesClassifer import NaiveBayesClf\n",
    "import pandas as pd\n",
    "\n",
    "nltk.download('punkt')  # Downloading the correct tokenizer data\n",
    "nltk.download('punkt_tab')  # Downloading the correct tokenizer data\n",
    "\n",
    "nltk.download('stopwords')\n",
    "\n",
    "positive_tweets = twitter_samples.strings('positive_tweets.json')\n",
    "negative_tweets = twitter_samples.strings('negative_tweets.json')\n"
   ]
  },
  {
   "cell_type": "code",
   "execution_count": null,
   "metadata": {},
   "outputs": [],
   "source": [
    "positive_df = pd.DataFrame(positive_tweets, columns = [\"Tweet\"])\n",
    "positive_df[\"Class\"] = 1\n",
    "\n",
    "negative_df = pd.DataFrame(negative_tweets, columns = [\"Tweet\"])\n",
    "negative_df[\"Class\"] = 0\n",
    "\n",
    "pos_neg_df = pd.concat([positive_df, negative_df])"
   ]
  },
  {
   "cell_type": "code",
   "execution_count": null,
   "metadata": {},
   "outputs": [],
   "source": [
    "pos_neg_df.shape"
   ]
  },
  {
   "cell_type": "code",
   "execution_count": null,
   "metadata": {},
   "outputs": [],
   "source": [
    "training = pos_neg_df.sample(800, replace=False)\n",
    "remaining = pos_neg_df.drop(training.index)\n",
    "validation = remaining.sample(200, replace=False)"
   ]
  },
  {
   "cell_type": "code",
   "execution_count": null,
   "metadata": {},
   "outputs": [],
   "source": [
    "naive = NaiveBayesClf(stopwords.words('english'))\n",
    "naive.fit(training[\"Tweet\"], training[\"Class\"])\n",
    "predictions = naive.predict(validation[\"Tweet\"])"
   ]
  },
  {
   "cell_type": "code",
   "execution_count": null,
   "metadata": {},
   "outputs": [],
   "source": [
    "def accuracy(y_test, y_true):\n",
    "    correct_count = 0\n",
    "    for i in range(len(y_test)):\n",
    "        if (y_test[i] == y_true.iloc[i]):\n",
    "            correct_count += 1\n",
    "    return correct_count / len(y_true)\n",
    "\n",
    "def precision(y_test, y_true):\n",
    "    true_pos = 0\n",
    "    false_pos = 0\n",
    "\n",
    "    for i in range(len(y_test)):\n",
    "        if (y_test[i] == 1 and y_true.iloc[i]==1):\n",
    "            true_pos += 1\n",
    "        elif (y_test[i]== 1 and y_true.iloc[i]==0):\n",
    "            false_pos += 1\n",
    "    return true_pos / (true_pos + false_pos)\n",
    "\n",
    "\n",
    "def recall(y_test, y_true):\n",
    "    true_pos = 0\n",
    "    false_neg = 0\n",
    "\n",
    "    for i in range(len(y_test)):\n",
    "        if (y_test[i] == 1 and y_true.iloc[i]==1):\n",
    "            true_pos += 1\n",
    "        elif (y_test[i] == 0 and y_true.iloc[i]==1):\n",
    "            false_neg += 1\n",
    "    return true_pos / (true_pos + false_neg)\n",
    "\n",
    "\n",
    "def f1score(y_test, y_true):\n",
    "    true_pos = 0\n",
    "    false_pos = 0\n",
    "    false_neg = 0\n",
    "\n",
    "    for i in range(len(y_test)):\n",
    "        if (y_test[i] == 1 and y_true.iloc[i]==1):\n",
    "            true_pos += 1\n",
    "        elif (y_test[i]== 1 and y_true.iloc[i]==0):\n",
    "            false_pos += 1\n",
    "        elif (y_test[i] == 0 and y_true.iloc[i]==1):\n",
    "            false_neg += 1\n",
    "    return 2 * true_pos / ( 2 * true_pos + ((false_neg + false_pos)))\n",
    "\n",
    "\n",
    "print(\"Accuracy Score: {:.2%}\".format(accuracy(predictions, validation[\"Class\"])))\n",
    "\n",
    "print(\"Precision Score: {:.2%}\".format(precision(predictions, validation[\"Class\"])))\n",
    "\n",
    "print(\"Recall Score: {:.2%}\".format(recall(predictions, validation[\"Class\"])))\n",
    "\n",
    "print(\"F1 Score: {:.2%}\".format(f1score(predictions, validation[\"Class\"])))"
   ]
  }
 ],
 "metadata": {
  "language_info": {
   "name": "python"
  }
 },
 "nbformat": 4,
 "nbformat_minor": 2
}
