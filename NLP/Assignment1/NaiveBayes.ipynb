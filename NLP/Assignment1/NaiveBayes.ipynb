{
 "cells": [
  {
   "cell_type": "markdown",
   "source": [
    "## Jude Kappel - Assignment 1"
   ],
   "metadata": {}
  },
  {
   "cell_type": "code",
   "execution_count": 55,
   "source": [
    "import numpy as np\n",
    "import nltk\n",
    "nltk.download('twitter_samples')\n",
    "from nltk.corpus import twitter_samples, stopwords\n",
    "from nltk.tokenize import word_tokenize\n",
    "import re\n",
    "import pandas as pd\n",
    "from nltk.stem.porter import PorterStemmer\n",
    "\n",
    "\n",
    "\n",
    "nltk.download('punkt')  # Downloading the correct tokenizer data\n",
    "nltk.download('punkt_tab')  # Downloading the correct tokenizer data\n",
    "\n",
    "nltk.download('stopwords')\n",
    "\n",
    "positive_tweets = twitter_samples.strings('positive_tweets.json')\n",
    "negative_tweets = twitter_samples.strings('negative_tweets.json')\n"
   ],
   "outputs": [
    {
     "output_type": "stream",
     "name": "stderr",
     "text": [
      "[nltk_data] Downloading package twitter_samples to\n",
      "[nltk_data]     /Users/judekappel/nltk_data...\n",
      "[nltk_data]   Package twitter_samples is already up-to-date!\n",
      "[nltk_data] Downloading package punkt to\n",
      "[nltk_data]     /Users/judekappel/nltk_data...\n",
      "[nltk_data]   Package punkt is already up-to-date!\n",
      "[nltk_data] Downloading package punkt_tab to\n",
      "[nltk_data]     /Users/judekappel/nltk_data...\n",
      "[nltk_data]   Package punkt_tab is already up-to-date!\n",
      "[nltk_data] Downloading package stopwords to\n",
      "[nltk_data]     /Users/judekappel/nltk_data...\n",
      "[nltk_data]   Package stopwords is already up-to-date!\n"
     ]
    }
   ],
   "metadata": {}
  },
  {
   "cell_type": "code",
   "execution_count": 58,
   "source": [
    "corpus = []\n",
    "\n",
    "positive_df = pd.DataFrame(positive_tweets, columns = [\"Tweet\"])\n",
    "positive_df[\"Class\"] = 1\n",
    "\n",
    "negative_df = pd.DataFrame(negative_tweets, columns = [\"Tweet\"])\n",
    "negative_df[\"Class\"] = 0\n",
    "\n",
    "pos_neg_df = pd.concat([positive_df, negative_df])\n",
    "\n",
    "for i in range(0,5):\n",
    "    text = re.sub('[^a-zA-Z]', '', pos_neg_df[\"Tweet\"][i])\n",
    "    text = text.lower()\n",
    "    text = text.split()\n",
    "    ps = PorterStemmer()\n",
    "    text = \"\".join(text)\n",
    "    corpus.append(text)\n",
    "\n",
    "corpus\n",
    "## trying to show to you this ishhh\n",
    "# pos_neg_df"
   ],
   "outputs": [
    {
     "output_type": "execute_result",
     "data": {
      "text/html": [
       "<div>\n",
       "<style scoped>\n",
       "    .dataframe tbody tr th:only-of-type {\n",
       "        vertical-align: middle;\n",
       "    }\n",
       "\n",
       "    .dataframe tbody tr th {\n",
       "        vertical-align: top;\n",
       "    }\n",
       "\n",
       "    .dataframe thead th {\n",
       "        text-align: right;\n",
       "    }\n",
       "</style>\n",
       "<table border=\"1\" class=\"dataframe\">\n",
       "  <thead>\n",
       "    <tr style=\"text-align: right;\">\n",
       "      <th></th>\n",
       "      <th>Tweet</th>\n",
       "      <th>Class</th>\n",
       "    </tr>\n",
       "  </thead>\n",
       "  <tbody>\n",
       "    <tr>\n",
       "      <th>0</th>\n",
       "      <td>#FollowFriday @France_Inte @PKuchly57 @Milipol...</td>\n",
       "      <td>1</td>\n",
       "    </tr>\n",
       "    <tr>\n",
       "      <th>1</th>\n",
       "      <td>@Lamb2ja Hey James! How odd :/ Please call our...</td>\n",
       "      <td>1</td>\n",
       "    </tr>\n",
       "    <tr>\n",
       "      <th>2</th>\n",
       "      <td>@DespiteOfficial we had a listen last night :)...</td>\n",
       "      <td>1</td>\n",
       "    </tr>\n",
       "    <tr>\n",
       "      <th>3</th>\n",
       "      <td>@97sides CONGRATS :)</td>\n",
       "      <td>1</td>\n",
       "    </tr>\n",
       "    <tr>\n",
       "      <th>4</th>\n",
       "      <td>yeaaaah yippppy!!!  my accnt verified rqst has...</td>\n",
       "      <td>1</td>\n",
       "    </tr>\n",
       "    <tr>\n",
       "      <th>...</th>\n",
       "      <td>...</td>\n",
       "      <td>...</td>\n",
       "    </tr>\n",
       "    <tr>\n",
       "      <th>4995</th>\n",
       "      <td>I wanna change my avi but uSanele :(</td>\n",
       "      <td>0</td>\n",
       "    </tr>\n",
       "    <tr>\n",
       "      <th>4996</th>\n",
       "      <td>MY PUPPY BROKE HER FOOT :(</td>\n",
       "      <td>0</td>\n",
       "    </tr>\n",
       "    <tr>\n",
       "      <th>4997</th>\n",
       "      <td>where's all the jaebum baby pictures :((</td>\n",
       "      <td>0</td>\n",
       "    </tr>\n",
       "    <tr>\n",
       "      <th>4998</th>\n",
       "      <td>But but Mr Ahmad Maslan cooks too :( https://t...</td>\n",
       "      <td>0</td>\n",
       "    </tr>\n",
       "    <tr>\n",
       "      <th>4999</th>\n",
       "      <td>@eawoman As a Hull supporter I am expecting a ...</td>\n",
       "      <td>0</td>\n",
       "    </tr>\n",
       "  </tbody>\n",
       "</table>\n",
       "<p>10000 rows × 2 columns</p>\n",
       "</div>"
      ],
      "text/plain": [
       "                                                  Tweet  Class\n",
       "0     #FollowFriday @France_Inte @PKuchly57 @Milipol...      1\n",
       "1     @Lamb2ja Hey James! How odd :/ Please call our...      1\n",
       "2     @DespiteOfficial we had a listen last night :)...      1\n",
       "3                                  @97sides CONGRATS :)      1\n",
       "4     yeaaaah yippppy!!!  my accnt verified rqst has...      1\n",
       "...                                                 ...    ...\n",
       "4995               I wanna change my avi but uSanele :(      0\n",
       "4996                         MY PUPPY BROKE HER FOOT :(      0\n",
       "4997           where's all the jaebum baby pictures :((      0\n",
       "4998  But but Mr Ahmad Maslan cooks too :( https://t...      0\n",
       "4999  @eawoman As a Hull supporter I am expecting a ...      0\n",
       "\n",
       "[10000 rows x 2 columns]"
      ]
     },
     "metadata": {},
     "execution_count": 58
    }
   ],
   "metadata": {}
  },
  {
   "cell_type": "code",
   "execution_count": 46,
   "source": [
    "positive_tweet_tokens_arr = [np.array(lis) for lis in positive_tweet_tokens]\n",
    "positive_tweet_tokens_arr = np.array(positive_tweet_tokens_arr)\n",
    "\n",
    "negative_tweet_tokens_arr = [np.array(lis)for lis in negative_tweet_tokens]\n",
    "negative_tweet_tokes_arr = np.array(negative_tweet_tokens_arr)"
   ],
   "outputs": [
    {
     "output_type": "stream",
     "name": "stderr",
     "text": [
      "/var/folders/np/h2bn5hq50lv5t15mlthlk1880000gn/T/ipykernel_3319/2500404588.py:2: VisibleDeprecationWarning: Creating an ndarray from ragged nested sequences (which is a list-or-tuple of lists-or-tuples-or ndarrays with different lengths or shapes) is deprecated. If you meant to do this, you must specify 'dtype=object' when creating the ndarray.\n",
      "  positive_tweet_tokens_arr = np.array(positive_tweet_tokens_arr)\n",
      "/var/folders/np/h2bn5hq50lv5t15mlthlk1880000gn/T/ipykernel_3319/2500404588.py:5: VisibleDeprecationWarning: Creating an ndarray from ragged nested sequences (which is a list-or-tuple of lists-or-tuples-or ndarrays with different lengths or shapes) is deprecated. If you meant to do this, you must specify 'dtype=object' when creating the ndarray.\n",
      "  negative_tweet_tokes_arr = np.array(negative_tweet_tokens_arr)\n"
     ]
    }
   ],
   "metadata": {}
  },
  {
   "cell_type": "code",
   "execution_count": 48,
   "source": [
    "positive_tweet_tokens_arr\n"
   ],
   "outputs": [
    {
     "output_type": "execute_result",
     "data": {
      "text/plain": [
       "array([array(['followfriday', 'top', 'engaged', 'members', 'community', 'week'],\n",
       "             dtype='<U12')                                                      ,\n",
       "       array(['hey', 'james', 'how', 'odd', 'please', 'call', 'contact',\n",
       "              'centre', 'able', 'assist', 'many', 'thanks'], dtype='<U7'),\n",
       "       array(['despiteofficial', 'listen', 'last', 'night', 'as', 'you', 'bleed',\n",
       "              'amazing', 'track', 'when', 'scotland'], dtype='<U15')             ,\n",
       "       ..., array(['hey', 'long', 'time', 'talk'], dtype='<U4'),\n",
       "       array(['matt', 'would', 'say', 'welcome', 'to', 'adulthood', 'http'],\n",
       "             dtype='<U9')                                                   ,\n",
       "       array(['could', 'say', 'egg', 'face'], dtype='<U5')], dtype=object)"
      ]
     },
     "metadata": {},
     "execution_count": 48
    }
   ],
   "metadata": {}
  },
  {
   "cell_type": "code",
   "execution_count": 32,
   "source": [],
   "outputs": [],
   "metadata": {}
  },
  {
   "cell_type": "code",
   "execution_count": 33,
   "source": [],
   "outputs": [
    {
     "output_type": "stream",
     "name": "stdout",
     "text": [
      "Sentiment: Positive\n"
     ]
    }
   ],
   "metadata": {}
  }
 ],
 "metadata": {
  "orig_nbformat": 4,
  "language_info": {
   "name": "python",
   "version": "3.10.5",
   "mimetype": "text/x-python",
   "codemirror_mode": {
    "name": "ipython",
    "version": 3
   },
   "pygments_lexer": "ipython3",
   "nbconvert_exporter": "python",
   "file_extension": ".py"
  },
  "kernelspec": {
   "name": "python3",
   "display_name": "Python 3.10.5 64-bit"
  },
  "interpreter": {
   "hash": "7e1998ff7f8aa20ada591c520b972326324e5ea05489af9e422744c7c09f6dad"
  }
 },
 "nbformat": 4,
 "nbformat_minor": 2
}